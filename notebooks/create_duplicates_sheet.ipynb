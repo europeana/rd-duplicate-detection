{
 "cells": [
  {
   "cell_type": "code",
   "execution_count": 1,
   "metadata": {},
   "outputs": [],
   "source": [
    "import pandas as pd\n",
    "from PIL import Image\n",
    "import matplotlib.pyplot as plt\n",
    "from pathlib import Path\n",
    "import numpy as np"
   ]
  },
  {
   "cell_type": "code",
   "execution_count": 2,
   "metadata": {},
   "outputs": [],
   "source": [
    "path = '/home/jcejudo/projects/duplicate_detection/results/2059516_EU_FD_Collections_Trust/similarity.csv'\n",
    "data_path = '/home/jcejudo/projects/duplicate_detection/data/2059516_EU_FD_Collections_Trust.csv'\n",
    "saving_path = '/home/jcejudo/projects/duplicate_detection/results/2059516_EU_FD_Collections_Trust/duplicates.csv'"
   ]
  },
  {
   "cell_type": "code",
   "execution_count": 7,
   "metadata": {},
   "outputs": [],
   "source": [
    "path = '/home/jcejudo/projects/duplicate_detection/results/rotterdam_museum/similarity.csv'\n",
    "data_path = '/home/jcejudo/projects/duplicate_detection/data/rotterdam_museum.csv'\n",
    "saving_path = '/home/jcejudo/projects/duplicate_detection/results/rotterdam_museum/duplicates.csv'"
   ]
  },
  {
   "cell_type": "code",
   "execution_count": 8,
   "metadata": {},
   "outputs": [
    {
     "name": "stdout",
     "output_type": "stream",
     "text": [
      "723\n",
      "362\n"
     ]
    }
   ],
   "source": [
    "data_df = pd.read_csv(data_path)\n",
    "data_df = data_df[['europeana_id','uri','image_url']]\n",
    "\n",
    "df = pd.read_csv(path)\n",
    "df = df.sort_values(by=['distance'],ascending=False)\n",
    "\n",
    "print(df.shape[0])\n",
    "df = df.iloc[::2]\n",
    "\n",
    "print(df.shape[0])\n"
   ]
  },
  {
   "cell_type": "code",
   "execution_count": 10,
   "metadata": {},
   "outputs": [
    {
     "data": {
      "image/png": "[encoded data removed]",
      "text/plain": [
       "<Figure size 576x432 with 1 Axes>"
      ]
     },
     "metadata": {
      "needs_background": "light"
     },
     "output_type": "display_data"
    }
   ],
   "source": [
    "threshold_list = np.linspace(0.8, 1.0, num=1000)\n",
    "n_pairs_list = []\n",
    "for threshold in threshold_list:\n",
    "    _df = df.loc[df['distance'] >= threshold]\n",
    "    n_pairs = _df.shape[0]\n",
    "    n_pairs_list.append(n_pairs)\n",
    "    \n",
    "dataset_name = Path(saving_path).parent.name\n",
    "    \n",
    "fix,ax = plt.subplots(figsize = (8,6))\n",
    "ax.plot(threshold_list,n_pairs_list)\n",
    "ax.set_ylabel('# of duplicate pairs')\n",
    "ax.set_xlabel('Distance threshold')\n",
    "ax.set_title(dataset_name)\n",
    "plt.tight_layout()\n",
    "plt.show()"
   ]
  },
  {
   "cell_type": "code",
   "execution_count": 11,
   "metadata": {},
   "outputs": [
    {
     "name": "stdout",
     "output_type": "stream",
     "text": [
      "362\n"
     ]
    },
    {
     "data": {
      "text/html": [
       "<div>\n",
       "<style scoped>\n",
       "    .dataframe tbody tr th:only-of-type {\n",
       "        vertical-align: middle;\n",
       "    }\n",
       "\n",
       "    .dataframe tbody tr th {\n",
       "        vertical-align: top;\n",
       "    }\n",
       "\n",
       "    .dataframe thead th {\n",
       "        text-align: right;\n",
       "    }\n",
       "</style>\n",
       "<table border=\"1\" class=\"dataframe\">\n",
       "  <thead>\n",
       "    <tr style=\"text-align: right;\">\n",
       "      <th></th>\n",
       "      <th>id1</th>\n",
       "      <th>id2</th>\n",
       "      <th>distance</th>\n",
       "      <th>uri1</th>\n",
       "      <th>url1</th>\n",
       "      <th>uri2</th>\n",
       "      <th>url2</th>\n",
       "    </tr>\n",
       "  </thead>\n",
       "  <tbody>\n",
       "    <tr>\n",
       "      <th>0</th>\n",
       "      <td>/2021609/resource_document_museum_rotterdam_ht...</td>\n",
       "      <td>/700/europeana_fashion_19800_3</td>\n",
       "      <td>0.999990</td>\n",
       "      <td>http://data.europeana.eu/item/2021609/resource...</td>\n",
       "      <td>http://museumrotterdam.blob.core.windows.net/l...</td>\n",
       "      <td>http://data.europeana.eu/item/700/europeana_fa...</td>\n",
       "      <td>https://img.museumrotterdam.nl/700/19800-3_1.jpg</td>\n",
       "    </tr>\n",
       "    <tr>\n",
       "      <th>1</th>\n",
       "      <td>/700/europeana_fashion_14015_75</td>\n",
       "      <td>/2021609/resource_document_museum_rotterdam_ht...</td>\n",
       "      <td>0.999965</td>\n",
       "      <td>http://data.europeana.eu/item/700/europeana_fa...</td>\n",
       "      <td>https://img.museumrotterdam.nl/700/14015-75_1.jpg</td>\n",
       "      <td>http://data.europeana.eu/item/2021609/resource...</td>\n",
       "      <td>http://museumrotterdam.blob.core.windows.net/l...</td>\n",
       "    </tr>\n",
       "    <tr>\n",
       "      <th>2</th>\n",
       "      <td>/700/europeana_fashion_20666</td>\n",
       "      <td>/2021609/resource_document_museum_rotterdam_ht...</td>\n",
       "      <td>0.999943</td>\n",
       "      <td>http://data.europeana.eu/item/700/europeana_fa...</td>\n",
       "      <td>https://img.museumrotterdam.nl/700/20666_1.jpg</td>\n",
       "      <td>http://data.europeana.eu/item/2021609/resource...</td>\n",
       "      <td>http://museumrotterdam.blob.core.windows.net/l...</td>\n",
       "    </tr>\n",
       "    <tr>\n",
       "      <th>3</th>\n",
       "      <td>/700/europeana_fashion_84874_6</td>\n",
       "      <td>/2021609/resource_document_museum_rotterdam_ht...</td>\n",
       "      <td>0.999928</td>\n",
       "      <td>http://data.europeana.eu/item/700/europeana_fa...</td>\n",
       "      <td>https://img.museumrotterdam.nl/700/84874-6_1.jpg</td>\n",
       "      <td>http://data.europeana.eu/item/2021609/resource...</td>\n",
       "      <td>http://museumrotterdam.blob.core.windows.net/l...</td>\n",
       "    </tr>\n",
       "    <tr>\n",
       "      <th>4</th>\n",
       "      <td>/700/europeana_fashion_23121_4_A_B</td>\n",
       "      <td>/2021609/resource_document_museum_rotterdam_ht...</td>\n",
       "      <td>0.999915</td>\n",
       "      <td>http://data.europeana.eu/item/700/europeana_fa...</td>\n",
       "      <td>https://img.museumrotterdam.nl/700/23121-4.A-B...</td>\n",
       "      <td>http://data.europeana.eu/item/2021609/resource...</td>\n",
       "      <td>http://museumrotterdam.blob.core.windows.net/l...</td>\n",
       "    </tr>\n",
       "  </tbody>\n",
       "</table>\n",
       "</div>"
      ],
      "text/plain": [
       "                                                 id1  \\\n",
       "0  /2021609/resource_document_museum_rotterdam_ht...   \n",
       "1                    /700/europeana_fashion_14015_75   \n",
       "2                       /700/europeana_fashion_20666   \n",
       "3                     /700/europeana_fashion_84874_6   \n",
       "4                 /700/europeana_fashion_23121_4_A_B   \n",
       "\n",
       "                                                 id2  distance  \\\n",
       "0                     /700/europeana_fashion_19800_3  0.999990   \n",
       "1  /2021609/resource_document_museum_rotterdam_ht...  0.999965   \n",
       "2  /2021609/resource_document_museum_rotterdam_ht...  0.999943   \n",
       "3  /2021609/resource_document_museum_rotterdam_ht...  0.999928   \n",
       "4  /2021609/resource_document_museum_rotterdam_ht...  0.999915   \n",
       "\n",
       "                                                uri1  \\\n",
       "0  http://data.europeana.eu/item/2021609/resource...   \n",
       "1  http://data.europeana.eu/item/700/europeana_fa...   \n",
       "2  http://data.europeana.eu/item/700/europeana_fa...   \n",
       "3  http://data.europeana.eu/item/700/europeana_fa...   \n",
       "4  http://data.europeana.eu/item/700/europeana_fa...   \n",
       "\n",
       "                                                url1  \\\n",
       "0  http://museumrotterdam.blob.core.windows.net/l...   \n",
       "1  https://img.museumrotterdam.nl/700/14015-75_1.jpg   \n",
       "2     https://img.museumrotterdam.nl/700/20666_1.jpg   \n",
       "3   https://img.museumrotterdam.nl/700/84874-6_1.jpg   \n",
       "4  https://img.museumrotterdam.nl/700/23121-4.A-B...   \n",
       "\n",
       "                                                uri2  \\\n",
       "0  http://data.europeana.eu/item/700/europeana_fa...   \n",
       "1  http://data.europeana.eu/item/2021609/resource...   \n",
       "2  http://data.europeana.eu/item/2021609/resource...   \n",
       "3  http://data.europeana.eu/item/2021609/resource...   \n",
       "4  http://data.europeana.eu/item/2021609/resource...   \n",
       "\n",
       "                                                url2  \n",
       "0   https://img.museumrotterdam.nl/700/19800-3_1.jpg  \n",
       "1  http://museumrotterdam.blob.core.windows.net/l...  \n",
       "2  http://museumrotterdam.blob.core.windows.net/l...  \n",
       "3  http://museumrotterdam.blob.core.windows.net/l...  \n",
       "4  http://museumrotterdam.blob.core.windows.net/l...  "
      ]
     },
     "execution_count": 11,
     "metadata": {},
     "output_type": "execute_result"
    }
   ],
   "source": [
    "threshold = 0.9\n",
    "\n",
    "_df = df.copy()\n",
    "_df = _df.loc[_df['distance'] >= threshold]\n",
    "\n",
    "print(_df.shape[0])\n",
    "\n",
    "_df['from'] = _df['from'].apply(lambda x: x.split('/')[-1].replace('11ph11','/').replace('.jpg',''))\n",
    "_df['to'] = _df['to'].apply(lambda x: x.split('/')[-1].replace('11ph11','/').replace('.jpg',''))\n",
    "\n",
    "_df = _df.merge(data_df,left_on='from',right_on='europeana_id')\n",
    "_df = _df.rename(columns={'from':'id1','image_url':'url1','uri':'uri1'})\n",
    "_df.pop('europeana_id')\n",
    "_df = _df.merge(data_df,left_on='to',right_on='europeana_id')\n",
    "_df = _df.rename(columns={'to':'id2','image_url':'url2','uri':'uri2'})\n",
    "_df.pop('europeana_id')\n",
    "\n",
    "#_df.pop('distance')\n",
    "\n",
    "_df.to_csv(saving_path,index = False)\n",
    "\n",
    "_df.head()"
   ]
  },
  {
   "cell_type": "code",
   "execution_count": null,
   "metadata": {},
   "outputs": [],
   "source": []
  },
  {
   "cell_type": "code",
   "execution_count": null,
   "metadata": {},
   "outputs": [],
   "source": []
  }
 ],
 "metadata": {
  "kernelspec": {
   "display_name": "Python 3",
   "language": "python",
   "name": "python3"
  },
  "language_info": {
   "codemirror_mode": {
    "name": "ipython",
    "version": 3
   },
   "file_extension": ".py",
   "mimetype": "text/x-python",
   "name": "python",
   "nbconvert_exporter": "python",
   "pygments_lexer": "ipython3",
   "version": "3.8.10"
  }
 },
 "nbformat": 4,
 "nbformat_minor": 4
}
