{
 "cells": [
  {
   "cell_type": "code",
   "execution_count": 55,
   "id": "eb41eb96",
   "metadata": {},
   "outputs": [],
   "source": [
    "import pandas as pd\n",
    "from pathlib import Path\n",
    "import numpy as np\n",
    "import matplotlib.pyplot as plt\n",
    "\n",
    "def get_id(path):\n",
    "    return Path(path).with_suffix('').name.replace('11ph11','/')\n",
    "\n",
    "def get_dataset(europeana_id):\n",
    "    return '90402_M_NL_Rijksmuseum' if europeana_id in data1_df['europeana_id'].values else '09102_Ag_EU_MIMO'\n"
   ]
  },
  {
   "cell_type": "code",
   "execution_count": 56,
   "id": "2865b3d8",
   "metadata": {},
   "outputs": [
    {
     "name": "stdout",
     "output_type": "stream",
     "text": [
      "1108225\n",
      "554113\n"
     ]
    }
   ],
   "source": [
    "data1_path = '/home/jcejudo/projects/duplicate_detection/data/90402_M_NL_Rijksmuseum.csv'\n",
    "data2_path = '/home/jcejudo/projects/duplicate_detection/data/09102_Ag_EU_MIMO.csv'\n",
    "\n",
    "path = '/home/jcejudo/projects/duplicate_detection/results/90402_M_NL_Rijksmuseum/similarity.csv'\n",
    "\n",
    "df = pd.read_csv(path)\n",
    "df = df.sort_values(by=['distance'],ascending=False)\n",
    "print(df.shape[0])\n",
    "df = df.iloc[::2]\n",
    "print(df.shape[0])\n",
    "\n",
    "data1_df = pd.read_csv(data1_path)\n",
    "data1_df = data1_df[['europeana_id','uri','image_url']]\n",
    "\n",
    "data2_df = pd.read_csv(data2_path)\n",
    "data2_df = data2_df[['europeana_id','uri','image_url']]\n",
    "\n",
    "\n",
    "df['from'] = df['from'].apply(get_id)\n",
    "df['to'] = df['to'].apply(get_id)\n",
    "df['dataset_image_1'] = df['from'].apply(get_dataset)\n",
    "df['dataset_image_2'] = df['to'].apply(get_dataset)\n"
   ]
  },
  {
   "cell_type": "code",
   "execution_count": null,
   "id": "eb524dc3",
   "metadata": {},
   "outputs": [],
   "source": [
    "threshold_list = np.linspace(0.8, 1.0, num=100)\n",
    "n_pairs_list = []\n",
    "for threshold in threshold_list:\n",
    "    _df = df.loc[df['distance'] >= threshold]\n",
    "    n_pairs = _df.shape[0]\n",
    "    n_pairs_list.append(n_pairs)\n",
    "        \n",
    "fix,ax = plt.subplots(figsize = (8,6))\n",
    "ax.plot(threshold_list,n_pairs_list)\n",
    "ax.set_ylabel('# of duplicate pairs')\n",
    "ax.set_xlabel('Distance threshold')\n",
    "plt.tight_layout()\n",
    "plt.show()"
   ]
  },
  {
   "cell_type": "code",
   "execution_count": null,
   "id": "75adbfa1",
   "metadata": {},
   "outputs": [],
   "source": [
    "threshold = 0.9\n",
    "\n",
    "_df = df.copy()\n",
    "similarity_df = _df.loc[_df['distance'] >= threshold]\n",
    "\n",
    "print(similarity_df.shape[0])\n",
    "print(similarity_df.head(5))"
   ]
  },
  {
   "cell_type": "code",
   "execution_count": null,
   "id": "feb23085",
   "metadata": {},
   "outputs": [],
   "source": [
    "data_df = pd.concat([data1_df,data2_df])\n",
    "\n",
    "similarity_df = similarity_df.merge(data_df,left_on='from',right_on='europeana_id')\n",
    "similarity_df = similarity_df.rename(columns={'from':'id1','image_url':'url1','uri':'uri1'})\n",
    "similarity_df.pop('europeana_id')\n",
    "\n",
    "similarity_df = similarity_df.merge(data_df,left_on='to',right_on='europeana_id')\n",
    "similarity_df = similarity_df.rename(columns={'to':'id2','image_url':'url2','uri':'uri2'})\n",
    "similarity_df.pop('europeana_id')\n",
    "\n",
    "\n",
    "\n",
    "# _df2 = _df.merge(data2_df,left_on='from',right_on='europeana_id')\n",
    "# _df2 = _df2.rename(columns={'from':'id1','image_url':'url1','uri':'uri1'})\n",
    "# _df2.pop('europeana_id')\n",
    "# _df2 = _df2.merge(data2_df,left_on='to',right_on='europeana_id')\n",
    "# _df2 = _df2.rename(columns={'to':'id2','image_url':'url2','uri':'uri2'})\n",
    "# _df2.pop('europeana_id')\n",
    "\n",
    "\n",
    "print(similarity_df.shape[0])\n",
    "\n",
    "#_df.pop('distance')\n",
    "\n",
    "\n",
    "#_df.head(5)"
   ]
  },
  {
   "cell_type": "code",
   "execution_count": null,
   "id": "15c21cc0",
   "metadata": {},
   "outputs": [],
   "source": [
    "saving_path = '/home/jcejudo/projects/duplicate_detection/results/90402_M_NL_Rijksmuseum/duplicates.csv'\n",
    "similarity_df.to_csv(saving_path,index = False)"
   ]
  },
  {
   "cell_type": "code",
   "execution_count": null,
   "id": "418a1914",
   "metadata": {},
   "outputs": [],
   "source": []
  },
  {
   "cell_type": "code",
   "execution_count": null,
   "id": "3d3692fe",
   "metadata": {},
   "outputs": [],
   "source": []
  },
  {
   "cell_type": "code",
   "execution_count": null,
   "id": "dca82bda",
   "metadata": {},
   "outputs": [],
   "source": []
  }
 ],
 "metadata": {
  "kernelspec": {
   "display_name": "Python 3",
   "language": "python",
   "name": "python3"
  },
  "language_info": {
   "codemirror_mode": {
    "name": "ipython",
    "version": 3
   },
   "file_extension": ".py",
   "mimetype": "text/x-python",
   "name": "python",
   "nbconvert_exporter": "python",
   "pygments_lexer": "ipython3",
   "version": "3.8.10"
  }
 },
 "nbformat": 4,
 "nbformat_minor": 5
}
